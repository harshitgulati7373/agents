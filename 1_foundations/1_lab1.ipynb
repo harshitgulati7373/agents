{
 "cells": [
  {
   "cell_type": "markdown",
   "metadata": {},
   "source": [
    "# Welcome to the start of your adventure in Agentic AI"
   ]
  },
  {
   "cell_type": "markdown",
   "metadata": {},
   "source": [
    "<table style=\"margin: 0; text-align: left; width:100%\">\n",
    "    <tr>\n",
    "        <td style=\"width: 150px; height: 150px; vertical-align: middle;\">\n",
    "            <img src=\"../assets/stop.png\" width=\"150\" height=\"150\" style=\"display: block;\" />\n",
    "        </td>\n",
    "        <td>\n",
    "            <h2 style=\"color:#ff7800;\">Are you ready for action??</h2>\n",
    "            <span style=\"color:#ff7800;\">Have you completed all the setup steps in the <a href=\"../setup/\">setup</a> folder?<br/>\n",
    "            Have you checked out the guides in the <a href=\"../guides/01_intro.ipynb\">guides</a> folder?<br/>\n",
    "            Well in that case, you're ready!!\n",
    "            </span>\n",
    "        </td>\n",
    "    </tr>\n",
    "</table>"
   ]
  },
  {
   "cell_type": "markdown",
   "metadata": {},
   "source": [
    "<table style=\"margin: 0; text-align: left; width:100%\">\n",
    "    <tr>\n",
    "        <td style=\"width: 150px; height: 150px; vertical-align: middle;\">\n",
    "            <img src=\"../assets/tools.png\" width=\"150\" height=\"150\" style=\"display: block;\" />\n",
    "        </td>\n",
    "        <td>\n",
    "            <h2 style=\"color:#00bfff;\">This code is a live resource - keep an eye out for my updates</h2>\n",
    "            <span style=\"color:#00bfff;\">I push updates regularly. As people ask questions or have problems, I add more examples and improve explanations. As a result, the code below might not be identical to the videos, as I've added more steps and better comments. Consider this like an interactive book that accompanies the lectures.<br/><br/>\n",
    "            I try to send emails regularly with important updates related to the course. You can find this in the 'Announcements' section of Udemy in the left sidebar. You can also choose to receive my emails via your Notification Settings in Udemy. I'm respectful of your inbox and always try to add value with my emails!\n",
    "            </span>\n",
    "        </td>\n",
    "    </tr>\n",
    "</table>"
   ]
  },
  {
   "cell_type": "markdown",
   "metadata": {},
   "source": [
    "### And please do remember to contact me if I can help\n",
    "\n",
    "And I love to connect: https://www.linkedin.com/in/eddonner/\n",
    "\n",
    "\n",
    "### New to Notebooks like this one? Head over to the guides folder!\n",
    "\n",
    "Just to check you've already added the Python and Jupyter extensions to Cursor, if not already installed:\n",
    "- Open extensions (View >> extensions)\n",
    "- Search for python, and when the results show, click on the ms-python one, and Install it if not already installed\n",
    "- Search for jupyter, and when the results show, click on the Microsoft one, and Install it if not already installed  \n",
    "Then View >> Explorer to bring back the File Explorer.\n",
    "\n",
    "And then:\n",
    "1. Click where it says \"Select Kernel\" near the top right, and select the option called `.venv (Python 3.12.9)` or similar, which should be the first choice or the most prominent choice. You may need to choose \"Python Environments\" first.\n",
    "2. Click in each \"cell\" below, starting with the cell immediately below this text, and press Shift+Enter to run\n",
    "3. Enjoy!\n",
    "\n",
    "After you click \"Select Kernel\", if there is no option like `.venv (Python 3.12.9)` then please do the following:  \n",
    "1. On Mac: From the Cursor menu, choose Settings >> VS Code Settings (NOTE: be sure to select `VSCode Settings` not `Cursor Settings`);  \n",
    "On Windows PC: From the File menu, choose Preferences >> VS Code Settings(NOTE: be sure to select `VSCode Settings` not `Cursor Settings`)  \n",
    "2. In the Settings search bar, type \"venv\"  \n",
    "3. In the field \"Path to folder with a list of Virtual Environments\" put the path to the project root, like C:\\Users\\username\\projects\\agents (on a Windows PC) or /Users/username/projects/agents (on Mac or Linux).  \n",
    "And then try again.\n",
    "\n",
    "Having problems with missing Python versions in that list? Have you ever used Anaconda before? It might be interferring. Quit Cursor, bring up a new command line, and make sure that your Anaconda environment is deactivated:    \n",
    "`conda deactivate`  \n",
    "And if you still have any problems with conda and python versions, it's possible that you will need to run this too:  \n",
    "`conda config --set auto_activate_base false`  \n",
    "and then from within the Agents directory, you should be able to run `uv python list` and see the Python 3.12 version."
   ]
  },
  {
   "cell_type": "code",
   "execution_count": 1,
   "metadata": {},
   "outputs": [],
   "source": [
    "# First let's do an import\n",
    "from dotenv import load_dotenv\n"
   ]
  },
  {
   "cell_type": "code",
   "execution_count": 2,
   "metadata": {},
   "outputs": [
    {
     "data": {
      "text/plain": [
       "True"
      ]
     },
     "execution_count": 2,
     "metadata": {},
     "output_type": "execute_result"
    }
   ],
   "source": [
    "# Next it's time to load the API keys into environment variables\n",
    "\n",
    "load_dotenv(override=True)"
   ]
  },
  {
   "cell_type": "code",
   "execution_count": 3,
   "metadata": {},
   "outputs": [
    {
     "name": "stdout",
     "output_type": "stream",
     "text": [
      "OpenAI API Key exists and begins sk-proj-\n"
     ]
    }
   ],
   "source": [
    "# Check the keys\n",
    "\n",
    "import os\n",
    "openai_api_key = os.getenv('OPENAI_API_KEY')\n",
    "\n",
    "if openai_api_key:\n",
    "    print(f\"OpenAI API Key exists and begins {openai_api_key[:8]}\")\n",
    "else:\n",
    "    print(\"OpenAI API Key not set - please head to the troubleshooting guide in the setup folder\")\n",
    "    \n"
   ]
  },
  {
   "cell_type": "code",
   "execution_count": 4,
   "metadata": {},
   "outputs": [],
   "source": [
    "# And now - the all important import statement\n",
    "# If you get an import error - head over to troubleshooting guide\n",
    "\n",
    "from openai import OpenAI"
   ]
  },
  {
   "cell_type": "code",
   "execution_count": 5,
   "metadata": {},
   "outputs": [],
   "source": [
    "# And now we'll create an instance of the OpenAI class\n",
    "# If you're not sure what it means to create an instance of a class - head over to the guides folder!\n",
    "# If you get a NameError - head over to the guides folder to learn about NameErrors\n",
    "\n",
    "openai = OpenAI()"
   ]
  },
  {
   "cell_type": "code",
   "execution_count": 6,
   "metadata": {},
   "outputs": [],
   "source": [
    "# Create a list of messages in the familiar OpenAI format\n",
    "\n",
    "messages = [{\"role\": \"user\", \"content\": \"What is 2+2?\"}]"
   ]
  },
  {
   "cell_type": "code",
   "execution_count": 7,
   "metadata": {},
   "outputs": [
    {
     "name": "stdout",
     "output_type": "stream",
     "text": [
      "2 + 2 equals 4.\n"
     ]
    }
   ],
   "source": [
    "# And now call it! Any problems, head to the troubleshooting guide\n",
    "# This uses GPT 4.1 nano, the incredibly cheap model\n",
    "\n",
    "response = openai.chat.completions.create(\n",
    "    model=\"gpt-4.1-nano\",\n",
    "    messages=messages\n",
    ")\n",
    "\n",
    "print(response.choices[0].message.content)\n"
   ]
  },
  {
   "cell_type": "code",
   "execution_count": 8,
   "metadata": {},
   "outputs": [],
   "source": [
    "# And now - let's ask for a question:\n",
    "\n",
    "question = \"Please propose a hard, challenging question to assess someone's IQ. Respond only with the question.\"\n",
    "messages = [{\"role\": \"user\", \"content\": question}]\n"
   ]
  },
  {
   "cell_type": "code",
   "execution_count": 9,
   "metadata": {},
   "outputs": [
    {
     "name": "stdout",
     "output_type": "stream",
     "text": [
      "A bat and a ball cost $1.10 in total. The bat costs $1.00 more than the ball. How much does the ball cost?\n"
     ]
    }
   ],
   "source": [
    "# ask it - this uses GPT 4.1 mini, still cheap but more powerful than nano\n",
    "\n",
    "response = openai.chat.completions.create(\n",
    "    model=\"gpt-4.1-mini\",\n",
    "    messages=messages\n",
    ")\n",
    "\n",
    "question = response.choices[0].message.content\n",
    "\n",
    "print(question)\n"
   ]
  },
  {
   "cell_type": "code",
   "execution_count": 10,
   "metadata": {},
   "outputs": [],
   "source": [
    "# form a new messages list\n",
    "messages = [{\"role\": \"user\", \"content\": question}]\n"
   ]
  },
  {
   "cell_type": "code",
   "execution_count": 11,
   "metadata": {},
   "outputs": [
    {
     "name": "stdout",
     "output_type": "stream",
     "text": [
      "Let's denote the cost of the ball as \\( x \\) dollars.\n",
      "\n",
      "Given:\n",
      "- The bat costs $1.00 more than the ball, so the bat costs \\( x + 1.00 \\) dollars.\n",
      "- The total cost is $1.10.\n",
      "\n",
      "Set up the equation:\n",
      "\\[\n",
      "x + (x + 1.00) = 1.10\n",
      "\\]\n",
      "\n",
      "Combine like terms:\n",
      "\\[\n",
      "2x + 1.00 = 1.10\n",
      "\\]\n",
      "\n",
      "Subtract 1.00 from both sides:\n",
      "\\[\n",
      "2x = 0.10\n",
      "\\]\n",
      "\n",
      "Divide both sides by 2:\n",
      "\\[\n",
      "x = 0.10 / 2 = 0.05\n",
      "\\]\n",
      "\n",
      "**Answer:** The ball costs **5 cents** ($0.05).\n"
     ]
    }
   ],
   "source": [
    "# Ask it again\n",
    "\n",
    "response = openai.chat.completions.create(\n",
    "    model=\"gpt-4.1-mini\",\n",
    "    messages=messages\n",
    ")\n",
    "\n",
    "answer = response.choices[0].message.content\n",
    "print(answer)\n"
   ]
  },
  {
   "cell_type": "code",
   "execution_count": 12,
   "metadata": {},
   "outputs": [
    {
     "data": {
      "text/markdown": [
       "Let's denote the cost of the ball as \\( x \\) dollars.\n",
       "\n",
       "Given:\n",
       "- The bat costs $1.00 more than the ball, so the bat costs \\( x + 1.00 \\) dollars.\n",
       "- The total cost is $1.10.\n",
       "\n",
       "Set up the equation:\n",
       "\\[\n",
       "x + (x + 1.00) = 1.10\n",
       "\\]\n",
       "\n",
       "Combine like terms:\n",
       "\\[\n",
       "2x + 1.00 = 1.10\n",
       "\\]\n",
       "\n",
       "Subtract 1.00 from both sides:\n",
       "\\[\n",
       "2x = 0.10\n",
       "\\]\n",
       "\n",
       "Divide both sides by 2:\n",
       "\\[\n",
       "x = 0.10 / 2 = 0.05\n",
       "\\]\n",
       "\n",
       "**Answer:** The ball costs **5 cents** ($0.05)."
      ],
      "text/plain": [
       "<IPython.core.display.Markdown object>"
      ]
     },
     "metadata": {},
     "output_type": "display_data"
    }
   ],
   "source": [
    "from IPython.display import Markdown, display\n",
    "\n",
    "display(Markdown(answer))\n",
    "\n"
   ]
  },
  {
   "cell_type": "markdown",
   "metadata": {},
   "source": [
    "# Congratulations!\n",
    "\n",
    "That was a small, simple step in the direction of Agentic AI, with your new environment!\n",
    "\n",
    "Next time things get more interesting..."
   ]
  },
  {
   "cell_type": "markdown",
   "metadata": {},
   "source": [
    "<table style=\"margin: 0; text-align: left; width:100%\">\n",
    "    <tr>\n",
    "        <td style=\"width: 150px; height: 150px; vertical-align: middle;\">\n",
    "            <img src=\"../assets/exercise.png\" width=\"150\" height=\"150\" style=\"display: block;\" />\n",
    "        </td>\n",
    "        <td>\n",
    "            <h2 style=\"color:#ff7800;\">Exercise</h2>\n",
    "            <span style=\"color:#ff7800;\">Now try this commercial application:<br/>\n",
    "            First ask the LLM to pick a business area that might be worth exploring for an Agentic AI opportunity.<br/>\n",
    "            Then ask the LLM to present a pain-point in that industry - something challenging that might be ripe for an Agentic solution.<br/>\n",
    "            Finally have 3 third LLM call propose the Agentic AI solution.\n",
    "            </span>\n",
    "        </td>\n",
    "    </tr>\n",
    "</table>"
   ]
  },
  {
   "cell_type": "code",
   "execution_count": null,
   "metadata": {},
   "outputs": [],
   "source": []
  },
  {
   "cell_type": "code",
   "execution_count": 13,
   "metadata": {},
   "outputs": [
    {
     "name": "stdout",
     "output_type": "stream",
     "text": [
      "One promising business area for exploring Agentic AI opportunities is **Healthcare Management and Patient Engagement**. \n",
      "\n",
      "### Rationale:\n",
      "\n",
      "1. **Personalized Patient Care**: Agentic AI can analyze vast amounts of patient data to provide personalized treatment plans, medication reminders, and lifestyle recommendations, enhancing patient outcomes.\n",
      "\n",
      "2. **Virtual Health Assistants**: AI-driven chatbots or virtual assistants can help patients schedule appointments, answer health-related queries, and provide follow-up care instructions, improving patient engagement and satisfaction.\n",
      "\n",
      "3. **Predictive Analytics**: By leveraging machine learning algorithms, Agentic AI can predict patient health trends, identify at-risk patients, and suggest preventive measures, which can lead to better health management and reduced hospital readmissions.\n",
      "\n",
      "4. **Telemedicine Support**: AI can facilitate remote monitoring of patients, analyze data from wearable devices, and provide real-time feedback to healthcare providers, enhancing the effectiveness of telemedicine services.\n",
      "\n",
      "5. **Administrative Efficiency**: Automating administrative tasks such as billing, insurance claims processing, and patient record management can significantly reduce operational costs and improve efficiency in healthcare facilities.\n",
      "\n",
      "6. **Clinical Decision Support**: Agentic AI can assist healthcare professionals by providing evidence-based recommendations during diagnosis and treatment planning, thereby improving clinical outcomes.\n",
      "\n",
      "### Potential Challenges:\n",
      "\n",
      "- **Data Privacy and Security**: Ensuring compliance with regulations like HIPAA and protecting sensitive patient data is crucial.\n",
      "- **Integration with Existing Systems**: Developing AI solutions that can seamlessly integrate with current healthcare IT systems can be complex.\n",
      "- **User Acceptance**: Gaining trust from both healthcare providers and patients in AI-driven solutions is essential for widespread adoption.\n",
      "\n",
      "### Conclusion:\n",
      "\n",
      "The intersection of AI and healthcare presents a significant opportunity for innovation, with the potential to improve patient outcomes, enhance operational efficiency, and reduce costs. Exploring Agentic AI in this domain could lead to transformative solutions that benefit both patients and healthcare providers.\n"
     ]
    }
   ],
   "source": [
    "# First create the messages:\n",
    "\n",
    "messages = [{\"role\": \"user\", \"content\": \"pick a business area that might be worth exploring for an Agentic AI opportunity\"}]\n",
    "\n",
    "# Then make the first call:\n",
    "\n",
    "response = openai.chat.completions.create(\n",
    "    model=\"gpt-4o-mini\",\n",
    "    messages=messages,\n",
    "    temperature=0.0,\n",
    ")\n",
    "\n",
    "# Then read the business idea:\n",
    "\n",
    "business_idea = response.choices[0].message.content\n",
    "\n",
    "# And repeat!\n",
    "print(business_idea)\n",
    "#First push"
   ]
  },
  {
   "cell_type": "markdown",
   "metadata": {},
   "source": []
  },
  {
   "cell_type": "code",
   "execution_count": 14,
   "metadata": {},
   "outputs": [
    {
     "name": "stdout",
     "output_type": "stream",
     "text": [
      "### Pain Point: Fragmented Patient Data Management\n",
      "\n",
      "**Overview:**\n",
      "One of the most significant challenges in healthcare management is the fragmentation of patient data across various systems and platforms. Patient information is often stored in multiple electronic health records (EHRs), lab systems, pharmacy databases, and other healthcare applications. This fragmentation leads to incomplete patient histories, miscommunication among healthcare providers, and ultimately, suboptimal patient care.\n",
      "\n",
      "**Challenges Associated with Fragmented Data:**\n",
      "\n",
      "1. **Inconsistent Patient Histories**: When patient data is scattered across different systems, healthcare providers may not have access to a complete and accurate medical history. This can lead to misdiagnoses, inappropriate treatments, and medication errors.\n",
      "\n",
      "2. **Inefficient Care Coordination**: Fragmented data makes it difficult for healthcare teams to coordinate care effectively. Specialists may not have access to relevant information from primary care providers, leading to delays in treatment and increased risk of complications.\n",
      "\n",
      "3. **Patient Engagement Barriers**: Patients often struggle to access their own health information, which can hinder their ability to engage in their care. This lack of access can lead to confusion about treatment plans and medication adherence.\n",
      "\n",
      "4. **Increased Administrative Burden**: Healthcare providers spend significant time reconciling data from different sources, which detracts from time spent on patient care. This inefficiency can lead to burnout among healthcare professionals.\n",
      "\n",
      "### Agentic AI Solution: Unified Patient Data Platform\n",
      "\n",
      "**Proposed Solution:**\n",
      "An Agentic AI-driven unified patient data platform could address the fragmentation issue by aggregating patient data from various sources into a single, comprehensive view. This platform would utilize advanced algorithms to ensure data accuracy, enhance interoperability, and provide actionable insights.\n",
      "\n",
      "**Key Features:**\n",
      "\n",
      "1. **Data Integration**: The platform would seamlessly integrate with existing EHRs, lab systems, and other healthcare applications, consolidating patient data into a single interface.\n",
      "\n",
      "2. **Real-Time Updates**: Utilizing AI, the platform would provide real-time updates on patient data, ensuring that healthcare providers have access to the most current information.\n",
      "\n",
      "3. **Personalized Insights**: The AI could analyze aggregated data to generate personalized insights for both patients and providers, such as reminders for preventive care, medication adherence alerts, and tailored health recommendations.\n",
      "\n",
      "4. **Enhanced Patient Engagement**: Patients would have secure access to their complete health records, empowering them to take an active role in their care. The platform could also include features like virtual health assistants to answer questions and provide guidance.\n",
      "\n",
      "5. **Predictive Analytics**: By analyzing trends in the unified data, the AI could identify at-risk patients and suggest proactive measures to prevent health issues, improving overall patient outcomes.\n",
      "\n",
      "### Conclusion:\n",
      "\n",
      "The fragmentation of patient data is a critical pain point in healthcare management that presents a ripe opportunity for an Agentic AI solution. By developing a unified patient data platform, healthcare providers can enhance care coordination, improve patient engagement, and ultimately deliver better health outcomes. This innovative approach could transform the way healthcare is delivered, making it more efficient, effective, and patient-centered.\n"
     ]
    }
   ],
   "source": [
    "messages = [{\"role\": \"user\", \"content\": business_idea + \"based on the business idea, present a pain-point in that industry - something challenging that might be ripe for an Agentic solution\"}]\n",
    "\n",
    "# Then make the first call:\n",
    "\n",
    "response = openai.chat.completions.create(\n",
    "    model=\"gpt-4o-mini\",\n",
    "    messages=messages,\n",
    "    temperature=0.0,\n",
    ")\n",
    "\n",
    "# Then read the business idea:\n",
    "\n",
    "pain_point = response.choices[0].message.content\n",
    "\n",
    "# And repeat!\n",
    "print(pain_point)\n"
   ]
  },
  {
   "cell_type": "code",
   "execution_count": 15,
   "metadata": {},
   "outputs": [
    {
     "data": {
      "text/markdown": [
       "### Pain Point: Inefficient Clinical Decision-Making\n",
       "\n",
       "**Overview:**\n",
       "In the healthcare industry, clinical decision-making is often hampered by the overwhelming amount of data available to healthcare providers. With the rise of electronic health records (EHRs), clinical guidelines, research studies, and patient-generated data, clinicians face the challenge of synthesizing this information to make informed decisions. This inefficiency can lead to delayed diagnoses, inappropriate treatments, and increased healthcare costs.\n",
       "\n",
       "**Challenges Associated with Inefficient Clinical Decision-Making:**\n",
       "\n",
       "1. **Information Overload**: Clinicians are inundated with vast amounts of data from various sources, making it difficult to identify relevant information quickly. This can lead to cognitive overload and decision fatigue.\n",
       "\n",
       "2. **Inconsistent Clinical Guidelines**: Different healthcare organizations may adopt varying clinical guidelines, leading to confusion and inconsistency in patient care. Clinicians may struggle to stay updated on the latest evidence-based practices.\n",
       "\n",
       "3. **Time Constraints**: Healthcare providers often have limited time during patient visits, making it challenging to thoroughly review all available data and make well-informed decisions.\n",
       "\n",
       "4. **Variability in Clinical Judgment**: Individual clinician experience and biases can lead to variability in decision-making, resulting in inconsistent patient care and outcomes.\n",
       "\n",
       "### Agentic AI Solution: Intelligent Clinical Decision Support System (CDSS)\n",
       "\n",
       "**Proposed Solution:**\n",
       "An Agentic AI-driven Intelligent Clinical Decision Support System (CDSS) could enhance clinical decision-making by providing real-time, evidence-based recommendations tailored to individual patient needs. This system would leverage advanced machine learning algorithms to analyze patient data and clinical guidelines, streamlining the decision-making process for healthcare providers.\n",
       "\n",
       "**Key Features:**\n",
       "\n",
       "1. **Contextual Data Analysis**: The CDSS would analyze patient data in real-time, considering medical history, lab results, and current symptoms to provide relevant insights and recommendations.\n",
       "\n",
       "2. **Evidence-Based Recommendations**: By integrating the latest clinical guidelines and research findings, the system would offer evidence-based treatment options, ensuring that clinicians have access to the most current information.\n",
       "\n",
       "3. **Natural Language Processing (NLP)**: Utilizing NLP, the CDSS could interpret unstructured data from clinical notes and other sources, extracting valuable insights that may otherwise be overlooked.\n",
       "\n",
       "4. **User-Friendly Interface**: The system would feature an intuitive interface that allows clinicians to quickly access recommendations and insights without disrupting their workflow.\n",
       "\n",
       "5. **Continuous Learning**: The AI would continuously learn from new data and outcomes, refining its recommendations over time to improve accuracy and relevance.\n",
       "\n",
       "### Conclusion:\n",
       "\n",
       "Inefficient clinical decision-making is a significant pain point in healthcare that can adversely affect patient outcomes and increase costs. By implementing an Agentic AI-driven Intelligent Clinical Decision Support System, healthcare providers can enhance their decision-making processes, reduce variability in care, and ultimately improve patient outcomes. This innovative solution has the potential to transform clinical practice, making it more efficient, evidence-based, and patient-centered."
      ],
      "text/plain": [
       "<IPython.core.display.Markdown object>"
      ]
     },
     "execution_count": 15,
     "metadata": {},
     "output_type": "execute_result"
    }
   ],
   "source": [
    "messages = [{\"role\": \"user\", \"content\": pain_point + \"based on the pain points, present a pain-point in that industry - propose the Agentic AI solution\"}]\n",
    "\n",
    "# Then make the first call:\n",
    "\n",
    "response = openai.chat.completions.create(\n",
    "    model=\"gpt-4o-mini\",\n",
    "    messages=messages,\n",
    "    temperature=0.0,\n",
    ")\n",
    "\n",
    "# Then read the business idea:\n",
    "\n",
    "Idea = response.choices[0].message.content\n",
    "\n",
    "# And repeat!\n",
    "Markdown(Idea)"
   ]
  },
  {
   "cell_type": "code",
   "execution_count": null,
   "metadata": {},
   "outputs": [],
   "source": []
  }
 ],
 "metadata": {
  "kernelspec": {
   "display_name": "Python (.venv - agents)",
   "language": "python",
   "name": "agents"
  },
  "language_info": {
   "codemirror_mode": {
    "name": "ipython",
    "version": 3
   },
   "file_extension": ".py",
   "mimetype": "text/x-python",
   "name": "python",
   "nbconvert_exporter": "python",
   "pygments_lexer": "ipython3",
   "version": "3.12.7"
  }
 },
 "nbformat": 4,
 "nbformat_minor": 2
}
